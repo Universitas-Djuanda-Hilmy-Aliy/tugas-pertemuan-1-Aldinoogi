{
  "cells": [
    {
      "cell_type": "markdown",
      "id": "dbd81294",
      "metadata": {
        "id": "dbd81294"
      },
      "source": [
        "$$\n",
        "\\sum_{i=1}^{100} 2^{2i+1}.\n",
        "$$"
      ]
    },
    {
      "cell_type": "code",
      "execution_count": null,
      "id": "4c0fab72",
      "metadata": {
        "scrolled": true,
        "id": "4c0fab72",
        "outputId": "acc56941-6a17-49ff-cc5e-9690c429f3b5"
      },
      "outputs": [
        {
          "name": "stdout",
          "output_type": "stream",
          "text": [
            "Hasilnya =  20300\n"
          ]
        }
      ],
      "source": [
        "a = 0\n",
        "\n",
        "for i in range(1,101):\n",
        "    a = a + (2^2*i+1)\n",
        "\n",
        "print(\"Hasilnya = \", a)"
      ]
    },
    {
      "cell_type": "markdown",
      "id": "a24a54d0",
      "metadata": {
        "id": "a24a54d0"
      },
      "source": [
        "$$\n",
        "\\prod_{j=1}^{50} 2j+2.\n",
        "$$"
      ]
    },
    {
      "cell_type": "code",
      "execution_count": null,
      "id": "a6514d2e",
      "metadata": {
        "id": "a6514d2e",
        "outputId": "6f897b9b-816a-4755-e257-a65cec370e69"
      },
      "outputs": [
        {
          "name": "stdout",
          "output_type": "stream",
          "text": [
            "Hasil =  181626063822123522020699080076184218412029452484926630583264631274340352000000000000\n"
          ]
        }
      ],
      "source": [
        "hasil = 1\n",
        "for j in range(1, 51+1):\n",
        "    hasil = hasil * abs(2*j+2)\n",
        "\n",
        "print(\"Hasil = \", hasil)"
      ]
    },
    {
      "cell_type": "markdown",
      "id": "0cf54660",
      "metadata": {
        "id": "0cf54660"
      },
      "source": [
        "$$\n",
        "10!\n",
        "$$"
      ]
    },
    {
      "cell_type": "code",
      "execution_count": null,
      "id": "37bd4f70",
      "metadata": {
        "id": "37bd4f70",
        "outputId": "f35ead40-4d31-40a2-c938-c1a5b07bffa9"
      },
      "outputs": [
        {
          "data": {
            "text/plain": [
              "3628800"
            ]
          },
          "execution_count": 9,
          "metadata": {},
          "output_type": "execute_result"
        }
      ],
      "source": [
        "def faktorial(n):\n",
        "    a=1\n",
        "    for i in range(1,n+1):\n",
        "        a = a*i\n",
        "    return(a)\n",
        "faktorial(10)"
      ]
    },
    {
      "cell_type": "markdown",
      "id": "aad17d7e",
      "metadata": {
        "id": "aad17d7e"
      },
      "source": [
        "$$\n",
        "f(x) = |2x-1|,\n",
        "f(-100)=\n",
        "$$"
      ]
    },
    {
      "cell_type": "code",
      "execution_count": null,
      "id": "e064b102",
      "metadata": {
        "id": "e064b102",
        "outputId": "46df682e-8ac0-4c05-c78c-aab7a9e5bbb1"
      },
      "outputs": [
        {
          "name": "stdout",
          "output_type": "stream",
          "text": [
            "Hasil =  201\n"
          ]
        }
      ],
      "source": [
        "def f(x):\n",
        "    return abs(2*x - 1)\n",
        "\n",
        "hasil = f(-100)\n",
        "print(\"Hasil = \", hasil)\n"
      ]
    },
    {
      "cell_type": "markdown",
      "id": "75c39626",
      "metadata": {
        "id": "75c39626"
      },
      "source": [
        "$$\n",
        "f(x)=\n",
        "\\begin{cases}\n",
        "x^{2} & \\text{x < 0}, \\\\\n",
        "x+2 & \\text{x >= 0}.\n",
        "\\end{cases}\n",
        "f(3)=\n",
        "$$"
      ]
    },
    {
      "cell_type": "code",
      "execution_count": null,
      "id": "05f48a1f",
      "metadata": {
        "id": "05f48a1f",
        "outputId": "e49da479-be7c-4821-9a03-a32f92c416e6"
      },
      "outputs": [
        {
          "name": "stdout",
          "output_type": "stream",
          "text": [
            "Hasil =  5\n"
          ]
        }
      ],
      "source": [
        "def f(x):\n",
        "    if x < 0:\n",
        "        return x**2\n",
        "    else:\n",
        "        return x + 2\n",
        "\n",
        "hasil = f(3)\n",
        "print(\"Hasil = \", hasil)\n"
      ]
    },
    {
      "cell_type": "markdown",
      "id": "ca5c5d6f",
      "metadata": {
        "id": "ca5c5d6f"
      },
      "source": [
        "$$\n",
        "\\begin{bmatrix}\n",
        "2 & 3 \\\\\n",
        "1 & 5\n",
        "\\end{bmatrix}\n",
        "*\n",
        "\\begin{bmatrix}\n",
        "7 & 0.5 \\\\\n",
        "4 & 0\n",
        "\\end{bmatrix}\n",
        "$$"
      ]
    },
    {
      "cell_type": "code",
      "execution_count": null,
      "id": "d39dfe98",
      "metadata": {
        "id": "d39dfe98",
        "outputId": "46234a6c-f4ab-4328-9729-cd2582c86b83"
      },
      "outputs": [
        {
          "name": "stdout",
          "output_type": "stream",
          "text": [
            "[[26.   1. ]\n",
            " [27.   0.5]]\n"
          ]
        }
      ],
      "source": [
        "# Matriks pertama\n",
        "matrix1 = np.array([[2, 3],\n",
        "                    [1, 5]])\n",
        "\n",
        "# Matriks kedua\n",
        "matrix2 = np.array([[7, 0.5],\n",
        "                    [4, 0]])\n",
        "\n",
        "# Hasil perkalian matriks\n",
        "hasil_matrix = np.dot(matrix1, matrix2)\n",
        "\n",
        "print(hasil_matrix)\n"
      ]
    }
  ],
  "metadata": {
    "kernelspec": {
      "display_name": "Python 3 (ipykernel)",
      "language": "python",
      "name": "python3"
    },
    "language_info": {
      "codemirror_mode": {
        "name": "ipython",
        "version": 3
      },
      "file_extension": ".py",
      "mimetype": "text/x-python",
      "name": "python",
      "nbconvert_exporter": "python",
      "pygments_lexer": "ipython3",
      "version": "3.11.4"
    },
    "colab": {
      "provenance": []
    }
  },
  "nbformat": 4,
  "nbformat_minor": 5
}